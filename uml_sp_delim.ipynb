{
 "cells": [
  {
   "cell_type": "markdown",
   "id": "49f5bbdb",
   "metadata": {},
   "source": [
    "### UML Species Delimitation Notebook\n",
    "Author = Alex Pyron; rpyron@colubroid.org\n",
    "\n",
    "Here we introduce a novel approach to unguided species delimitation using self organizing maps (SOMs), a machine learning (ML) method also known as Kohonon maps. These SOMs reduce multi-dimentional data to a two dimentional configuration that maximizes the similarity between a distance matrix of input and output features. The result is to identify discrete genotype clusters composed of similar individuals. For a full expanation of the theory behind SOMs and an implementation of the method, see Pyron et al. (2022). \n",
    "\n",
    "The goal of this notebook is for you to explore this ML method and see if it would be a good fit for your own dataset. Try it out first with the example data from Pyron et al. (2022), then try it with your own structure file and see how it works with your own data. The default parameters are tuned to the example data, so when you use your own data make sure you modify the parameters and check model fit. "
   ]
  },
  {
   "cell_type": "markdown",
   "id": "649addcc",
   "metadata": {},
   "source": [
    "### Install Dependencies\n",
    "If running on Binder, these are all installed for you within the environment. However, if running locally, you will need to make sure to install."
   ]
  },
  {
   "cell_type": "code",
   "execution_count": null,
   "id": "061ddbd4",
   "metadata": {},
   "outputs": [],
   "source": [
    "#install.packages(c('adegenet','maps','viridis','kohonen'))"
   ]
  },
  {
   "cell_type": "code",
   "execution_count": null,
   "id": "d207d00e",
   "metadata": {},
   "outputs": [],
   "source": [
    "#load dependencies\n",
    "library(adegenet); library(maps); library(viridis); library(conStruct);library(kohonen)\n",
    "set.seed(1)"
   ]
  },
  {
   "cell_type": "markdown",
   "id": "aa02a570",
   "metadata": {},
   "source": [
    "### Read in the data\n",
    "Here we will read in the structure format data using adegenet. The data has 71 individuals, 7809 loci. If alleles are separated by column, then onrowperind = false, if they are split by line, then make that true. For the SOM method, do no include the population column (col 2), and then make sure to set col.pop = 0. Read more on the [adegenet manual](https://rdrr.io/cran/adegenet/man/read.structure.html)."
   ]
  },
  {
   "cell_type": "code",
   "execution_count": null,
   "id": "f94f85fa",
   "metadata": {},
   "outputs": [],
   "source": [
    "#Read in STRUCTURE file from ipyrad\n",
    "a <- read.structure(\"./seal_in.str\",\n",
    "                    n.ind = 71,\n",
    "                    n.loc = 7809,\n",
    "                    onerowperind = FALSE,\n",
    "                    col.lab = 1,\n",
    "                    col.pop = 0,\n",
    "                    col.others = 0,\n",
    "                    row.marknames = 0,\n",
    "                    NA.char = -9)\n"
   ]
  },
  {
   "cell_type": "code",
   "execution_count": null,
   "id": "2626ead2",
   "metadata": {},
   "outputs": [],
   "source": [
    "# Let's take a quick look\n",
    "a"
   ]
  },
  {
   "cell_type": "markdown",
   "id": "775c68ed",
   "metadata": {},
   "source": [
    "Read in the locality information for naming populations and mapping. The input file needed should be a csv that has at minimum the following columns: \n",
    "Specimen, mtClade (a priori sp assignment from mtDNA or clustering like Admixture), Lat, Long, State, and County"
   ]
  },
  {
   "cell_type": "code",
   "execution_count": null,
   "id": "e1533a9a",
   "metadata": {},
   "outputs": [],
   "source": [
    "# Read in the locality data\n",
    "dat <- read.csv(\"./gbs_73_localities.csv\")\n",
    "pops <- factor(dat$mtClade[match(row.names(a$tab),dat$Specimen)])\n",
    "a$pop <- pops\n",
    "xy <- dat[,9:8][match(row.names(a$tab),dat$Specimen),]; rownames(xy) <- dat$Specimen[match(row.names(a$tab),dat$Specimen)]\n",
    "a@other$xy <- xy\n",
    "a.orig <- a"
   ]
  },
  {
   "cell_type": "code",
   "execution_count": null,
   "id": "02fe2837",
   "metadata": {},
   "outputs": [],
   "source": [
    "# Take a look at the locality data to replicate with your own csv file\n",
    "head(dat)"
   ]
  },
  {
   "cell_type": "code",
   "execution_count": null,
   "id": "0eebdde9",
   "metadata": {},
   "outputs": [],
   "source": [
    "# Convert to a genind object of allele frequencies\n",
    "struc <- makefreq(a)"
   ]
  },
  {
   "cell_type": "code",
   "execution_count": null,
   "id": "d85a0815",
   "metadata": {},
   "outputs": [],
   "source": [
    "# Take a look at the allele frequencies\n",
    "head(struc)"
   ]
  },
  {
   "cell_type": "code",
   "execution_count": null,
   "id": "01f20fae",
   "metadata": {},
   "outputs": [],
   "source": [
    "# Convert the allele frequencies to a matrix\n",
    "struc_matrix <- matrix(unlist(as.numeric(struc)), nrow=nrow(struc))\n",
    "head(struc_matrix)"
   ]
  },
  {
   "cell_type": "code",
   "execution_count": null,
   "id": "23c918f5",
   "metadata": {},
   "outputs": [],
   "source": [
    "# Convert the data to a grid\n",
    "size <- round(sqrt(dim(struc)[1]))#round(5 * sqrt(dim(struc_matrix)[1]))\n",
    "som_grid <- somgrid(xdim = size, ydim=size, topo=\"hexagonal\")\n",
    "head(som_grid)"
   ]
  },
  {
   "cell_type": "markdown",
   "id": "a74dca06",
   "metadata": {},
   "source": [
    "### Train the model\n",
    "Now we have all the input data ready and we can train the model. The input is the data matrix, the grid, and a few parameters. The model doesn't take that long to train, so it is a good idea to experiment with the parameter values for your dataset. 'rlen' = number of generations, 'alpha' = learning rate. As we said above, these parameters are set for the example data, make sure you experiment with your data. For more info on the som model, read [here](https://www.rdocumentation.org/packages/kohonen/versions/2.0.19/topics/som)."
   ]
  },
  {
   "cell_type": "code",
   "execution_count": null,
   "id": "9342ae4b",
   "metadata": {},
   "outputs": [],
   "source": [
    "# Train the model\n",
    "som_model <- som(struc_matrix,\n",
    "                 grid=som_grid,\n",
    "                 rlen=350,\n",
    "                 alpha=c(0.05,0.01),\n",
    "                 keep.data = TRUE,\n",
    "                 maxNA.fraction=0.5)"
   ]
  },
  {
   "cell_type": "code",
   "execution_count": null,
   "id": "a38decbd",
   "metadata": {
    "scrolled": true
   },
   "outputs": [],
   "source": [
    "# Here we plot the model, and you want to find the value where the distance plateaus.\n",
    "par(mgp=c(3,0.67,0))\n",
    "plot(som_model, type=\"changes\", main = \"a) Training progress\", axes=F, ylim=c(0.009,0.015))\n",
    "axis(1);axis(2,at=c(0.01,0.012,0.014),las=2)"
   ]
  },
  {
   "cell_type": "markdown",
   "id": "80cb9c30",
   "metadata": {},
   "source": [
    "### Identify the right number of clusters"
   ]
  },
  {
   "cell_type": "markdown",
   "id": "efcb1218",
   "metadata": {},
   "source": [
    "Now we want to use k means clustering to choose the 'best' number of clusters. "
   ]
  },
  {
   "cell_type": "code",
   "execution_count": null,
   "id": "69b1a9b7",
   "metadata": {},
   "outputs": [],
   "source": [
    "mydata <- getCodes(som_model)\n",
    "wss <- (nrow(mydata)-1)*sum(apply(mydata,2,var)) \n",
    "for (i in 1:15) {\n",
    "  wss[i] <- sum(kmeans(mydata, centers=i)$withinss)\n",
    "}\n",
    "d_wss <- abs(diff(diff(wss)))\n",
    "plot(2:14,d_wss, xlab=\"Clusters (k)\",pch=19,ylab=\"dWSS\")\n",
    "num_clusters <- (2:14)[which(d_wss==max(d_wss))]"
   ]
  },
  {
   "cell_type": "markdown",
   "id": "b0c04de7",
   "metadata": {},
   "source": [
    "### Cluster the inividuals"
   ]
  },
  {
   "cell_type": "code",
   "execution_count": null,
   "id": "ba24ff2f",
   "metadata": {
    "scrolled": true
   },
   "outputs": [],
   "source": [
    "## use hierarchical clustering to cluster the codebook vectors\n",
    "som_cluster <- cutree(hclust(dist(mydata)), num_clusters)\n",
    "# plot these results:\n",
    "plot(som_model, shape=\"straight\", type=\"mapping\", bgcol = viridis(num_clusters)[som_cluster], main = \"Clusters\", \n",
    "     pch=19, col=\"red\")#, labels=paste(clade.data$DAB,clade.data$nClade,sep=\" \"), cex=0.5) \n",
    "add.cluster.boundaries(som_model, som_cluster)"
   ]
  },
  {
   "cell_type": "code",
   "execution_count": null,
   "id": "de3285d5",
   "metadata": {},
   "outputs": [],
   "source": [
    "# get vector with cluster value for each original data sample\n",
    "cluster_assignment <- som_cluster[som_model$unit.classif]\n",
    "# for each of analysis, add the assignment as a column in the original data:\n",
    "# data$cluster <- cluster_assignment\n",
    "cbind(rownames(a$tab),cluster_assignment)\n",
    "dev.off()"
   ]
  },
  {
   "cell_type": "markdown",
   "id": "721b916d",
   "metadata": {},
   "source": [
    "### Map the clusters"
   ]
  },
  {
   "cell_type": "code",
   "execution_count": null,
   "id": "9b114f95",
   "metadata": {},
   "outputs": [],
   "source": [
    "maps::map(database = 'county', xlim = range(xy[,1]) + c(-1,1), ylim = range(xy[,2]) + c(-1,1), col=\"white\")\n",
    "text(-80,31.5,\"c)\",cex=1.33,font=2);map.axes()\n",
    "maps::map(database = 'county', xlim = range(xy[,1]) + c(-1,1), ylim = range(xy[,2]) + c(-1,1), col=\"gray\",add=T)\n",
    "maps::map(database = 'state', xlim = range(xy[,1]) + c(-1,1), ylim = range(xy[,2]) + c(-1,1), add = T)\n",
    "#map.scale(x=-81,y=31,relwidth=0.1,ratio=FALSE,cex=0.67)\n",
    "#legend(x=-82.5,y=33.5,legend=c(\"monticola B\",\"monticola A/C\"),viridis(2))\n",
    "points(xy[rownames(a$tab),], bg=viridis(2)[cluster_assignment], pch=21, cex=1.25)"
   ]
  },
  {
   "cell_type": "markdown",
   "id": "5ecb5795",
   "metadata": {},
   "source": [
    "### Plot the SOM nodes\n",
    "In the next figure, the nodes with individuals are colored, whereas the nodes without are gray. Thus, nodes with multiple individuals represent clusters of very similar inidividuals. The color of the node tells you how many individuals are clustered within."
   ]
  },
  {
   "cell_type": "code",
   "execution_count": null,
   "id": "0f9c75ff",
   "metadata": {},
   "outputs": [],
   "source": [
    "#Plot the note counts\n",
    "plot(som_model, type=\"count\", main=\"Node Counts\", palette.name = magma)"
   ]
  },
  {
   "cell_type": "code",
   "execution_count": null,
   "id": "76dea89c",
   "metadata": {},
   "outputs": [],
   "source": [
    "Here, we are plotting the distance between cells. We expect the distances to cluster similar to the individual clusters"
   ]
  },
  {
   "cell_type": "code",
   "execution_count": null,
   "id": "d273bb6a",
   "metadata": {},
   "outputs": [],
   "source": [
    "# Plot the Cell distances\n",
    "plot(som_model, type=\"dist.neighbours\", \"SOM neighbour distances\", palette.name = magma)"
   ]
  },
  {
   "cell_type": "markdown",
   "id": "7f78fd41",
   "metadata": {},
   "source": [
    "And that is it! Once you run through the example data, play with your own data and see how the learning rate and number of generations affect your results."
   ]
  }
 ],
 "metadata": {
  "kernelspec": {
   "display_name": "R",
   "language": "R",
   "name": "ir"
  },
  "language_info": {
   "codemirror_mode": "r",
   "file_extension": ".r",
   "mimetype": "text/x-r-source",
   "name": "R",
   "pygments_lexer": "r",
   "version": "4.0.3"
  }
 },
 "nbformat": 4,
 "nbformat_minor": 5
}
